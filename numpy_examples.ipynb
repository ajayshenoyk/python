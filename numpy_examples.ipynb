{
 "cells": [
  {
   "cell_type": "markdown",
   "metadata": {},
   "source": [
    "# NumPy\n",
    "\n",
    "numpy is python's package for doing math that is more advanced than +-*/\n",
    "\n",
    "This includes special functions like cosine, exponential, sqrt, ...\n",
    "\n",
    "On top of this we can use numpy to generate samples from many types of random variables\n",
    "\n",
    "numpy also has a powerful data type to define vectors, matrices, and tensors\n",
    "\n",
    "With these data types numpy also allows us to do linear algebra - matrix multiplication and matrix-vector solutions"
   ]
  },
  {
   "cell_type": "code",
   "execution_count": 3,
   "metadata": {},
   "outputs": [],
   "source": [
    "# the first step of using numpy is to tell python to use it\n",
    "import numpy as np"
   ]
  },
  {
   "cell_type": "code",
   "execution_count": 8,
   "metadata": {},
   "outputs": [
    {
     "name": "stdout",
     "output_type": "stream",
     "text": [
      "-1.0\n",
      "1.1\n",
      "5.4\n"
     ]
    }
   ],
   "source": [
    "print(np.cos(np.pi))\n",
    "print(np.sqrt(1.21))\n",
    "print(np.log(np.exp(5.2)))"
   ]
  },
  {
   "cell_type": "code",
   "execution_count": 9,
   "metadata": {},
   "outputs": [
    {
     "name": "stdout",
     "output_type": "stream",
     "text": [
      "[1 2 3]\n",
      "\n",
      "[[1 2 1]\n",
      " [4 5 9]\n",
      " [1 8 9]]\n",
      "\n",
      "[[1 4 1]\n",
      " [2 5 8]\n",
      " [1 9 9]]\n"
     ]
    }
   ],
   "source": [
    "# we can create numpy arrays by converting lists\n",
    "# this is a vector\n",
    "vec = np.array([1,2,3])\n",
    "print(vec)\n",
    "# we can create matrices by converting lists of lists\n",
    "mat = np.array([[1,2,1],[4,5,9],[1,8,9]])\n",
    "print('')\n",
    "print(mat)\n",
    "print('')\n",
    "print(mat.T)"
   ]
  },
  {
   "cell_type": "code",
   "execution_count": 10,
   "metadata": {},
   "outputs": [
    {
     "name": "stdout",
     "output_type": "stream",
     "text": [
      "[ 0  1  2  3  4  5  6  7  8  9 10 11 12 13 14]\n",
      "\n",
      "[ 3  9 15]\n"
     ]
    }
   ],
   "source": [
    "# there are lots of other ways to create numpy arrays\n",
    "vec2 = np.arange(0,15)\n",
    "print(vec2)\n",
    "print('')\n",
    "vec3 = np.arange(3,21,6)\n",
    "print(vec3)\n"
   ]
  },
  {
   "cell_type": "code",
   "execution_count": 29,
   "metadata": {},
   "outputs": [
    {
     "name": "stdout",
     "output_type": "stream",
     "text": [
      "[0.         0.55555556 1.11111111 1.66666667 2.22222222 2.77777778\n",
      " 3.33333333 3.88888889 4.44444444 5.        ]\n",
      "\n",
      "[[0.         0.55555556]\n",
      " [1.11111111 1.66666667]\n",
      " [2.22222222 2.77777778]\n",
      " [3.33333333 3.88888889]\n",
      " [4.44444444 5.        ]]\n",
      "[[0.         0.55555556]\n",
      " [1.11111111 1.66666667]\n",
      " [2.22222222 2.77777778]\n",
      " [3.33333333 3.88888889]\n",
      " [4.44444444 5.        ]]\n",
      "[0.         0.55555556 1.11111111 1.66666667 2.22222222 2.77777778\n",
      " 3.33333333 3.88888889 4.44444444 5.        ]\n"
     ]
    }
   ],
   "source": [
    "\n",
    "vec4 = np.linspace(0,5,10)\n",
    "print(vec4)\n",
    "print('')\n",
    "print(vec4.reshape(5,2))\n",
    "vec4_reshaped = vec4.reshape(5,2)\n",
    "print(vec4_reshaped)\n",
    "print(vec4)"
   ]
  },
  {
   "cell_type": "code",
   "execution_count": 21,
   "metadata": {},
   "outputs": [
    {
     "name": "stdout",
     "output_type": "stream",
     "text": [
      "[[0. 0. 0.]\n",
      " [0. 0. 0.]\n",
      " [0. 0. 0.]\n",
      " [0. 0. 0.]\n",
      " [0. 0. 0.]]\n",
      "\n",
      "[[1. 1. 1. 1. 1.]\n",
      " [1. 1. 1. 1. 1.]\n",
      " [1. 1. 1. 1. 1.]]\n",
      "\n",
      "[[1. 0. 0. 0. 0.]\n",
      " [0. 1. 0. 0. 0.]\n",
      " [0. 0. 1. 0. 0.]\n",
      " [0. 0. 0. 1. 0.]\n",
      " [0. 0. 0. 0. 1.]]\n"
     ]
    }
   ],
   "source": [
    "mat2 = np.zeros([5,3])\n",
    "print(mat2)\n",
    "mat3 = np.ones((3,5))\n",
    "print('')\n",
    "print(mat3)\n",
    "mat4 = np.eye(5)\n",
    "print('')\n",
    "print(mat4)"
   ]
  },
  {
   "cell_type": "code",
   "execution_count": 22,
   "metadata": {},
   "outputs": [
    {
     "name": "stdout",
     "output_type": "stream",
     "text": [
      "[1 2 3 4 5]\n",
      "[3 4 5 6 7]\n",
      "[ 4  6  8 10 12]\n",
      "[ 3  8 15 24 35]\n",
      "[1.         0.5        0.33333333 0.25       0.2       ]\n",
      "[1.73205081 2.         2.23606798 2.44948974 2.64575131]\n"
     ]
    }
   ],
   "source": [
    "# we can +-*/ arrays together if they're the right size\n",
    "vec5 = np.arange(1,6)\n",
    "vec6 = np.arange(3,8)\n",
    "print(vec5)\n",
    "print(vec6)\n",
    "print(vec5+vec6)\n",
    "print(vec5*vec6)\n",
    "print(1/vec5)\n",
    "print(np.sqrt(vec6))"
   ]
  },
  {
   "cell_type": "code",
   "execution_count": 23,
   "metadata": {},
   "outputs": [
    {
     "name": "stdout",
     "output_type": "stream",
     "text": [
      "[[1 2 1]\n",
      " [4 5 9]\n",
      " [1 8 9]]\n",
      "\n",
      "[1 2 3]\n",
      "\n",
      "[ 8 41 44]\n"
     ]
    }
   ],
   "source": [
    "# we can do matrix multiplication\n",
    "print(mat)\n",
    "print('')\n",
    "print(vec)\n",
    "print()\n",
    "product = np.matmul(mat,vec)\n",
    "print(product)"
   ]
  },
  {
   "cell_type": "code",
   "execution_count": 24,
   "metadata": {},
   "outputs": [
    {
     "name": "stdout",
     "output_type": "stream",
     "text": [
      "[1. 2. 3.]\n",
      "\n",
      "[[ 0.5         0.18518519 -0.24074074]\n",
      " [ 0.5        -0.14814815  0.09259259]\n",
      " [-0.5         0.11111111  0.05555556]]\n"
     ]
    }
   ],
   "source": [
    "print(np.linalg.solve(mat,product))\n",
    "print('')\n",
    "print(np.linalg.inv(mat))"
   ]
  },
  {
   "cell_type": "code",
   "execution_count": 25,
   "metadata": {},
   "outputs": [
    {
     "name": "stdout",
     "output_type": "stream",
     "text": [
      "['blue' 'red' 'orange' 'purple' 'purple' 'orange' 'Red' '6']\n",
      "['6' 'Red' 'blue' 'orange' 'purple' 'red']\n"
     ]
    }
   ],
   "source": [
    "# we can find the unique values in an array\n",
    "vec7 = np.array(['blue','red','orange','purple','purple','orange','Red',6])\n",
    "print(vec7)\n",
    "print(np.unique(vec7))"
   ]
  },
  {
   "cell_type": "code",
   "execution_count": 26,
   "metadata": {},
   "outputs": [
    {
     "name": "stdout",
     "output_type": "stream",
     "text": [
      "[[0.03986214 0.78536913 0.04060586 0.30427473 0.3953139 ]\n",
      " [0.07720429 0.83351404 0.37449266 0.5082937  0.43164359]\n",
      " [0.27394806 0.55152146 0.98731451 0.31093227 0.4399405 ]\n",
      " [0.15617424 0.19089824 0.47541759 0.50883057 0.13367666]\n",
      " [0.74775219 0.38912953 0.23995139 0.69330722 0.50679167]]\n",
      "\n",
      "[[ 0.5307325  -1.32580392  1.18409043 -1.01864297 -0.21212618]\n",
      " [ 0.03844286 -2.74267946  0.11628978 -0.76969698  0.29087144]\n",
      " [ 0.45132281  0.56227369  0.32365992  2.46354191  1.94726982]\n",
      " [-1.14127984  0.54675836 -0.58152181  0.16589233  0.6191329 ]\n",
      " [ 1.96824734 -2.76705095  0.12312335  1.06865662  0.4009953 ]\n",
      " [-0.05204943  1.6525689   0.3504117   0.30332462  0.13646501]\n",
      " [-1.88399358 -0.18079249  0.03218846  0.03737624 -0.80100376]\n",
      " [ 0.75444322  1.20723621 -1.89817865 -0.25448973 -0.11266655]\n",
      " [ 1.28422513  1.72160555 -0.92786538 -0.79892303  0.31388143]\n",
      " [-0.39773167  0.05782375 -0.22746818  1.30750769  0.15422508]]\n"
     ]
    }
   ],
   "source": [
    "# we can also use numpy to generate samples of a random variable\n",
    "rand_mat = np.random.rand(5,5) # uniform random variable\n",
    "print(rand_mat)\n",
    "rand_mat2 = np.random.randn(10,5) # standard normal random variable\n",
    "print('')\n",
    "print(rand_mat2)"
   ]
  },
  {
   "cell_type": "code",
   "execution_count": 30,
   "metadata": {},
   "outputs": [
    {
     "name": "stdout",
     "output_type": "stream",
     "text": [
      "0.415846405533653\n",
      "1.087728182240726\n"
     ]
    }
   ],
   "source": [
    "# we can also use numpy for statistical tools on arrays\n",
    "print(np.mean(rand_mat))\n",
    "print(np.std(rand_mat2))"
   ]
  },
  {
   "cell_type": "code",
   "execution_count": 31,
   "metadata": {},
   "outputs": [
    {
     "name": "stdout",
     "output_type": "stream",
     "text": [
      "0.0398621437240666\n",
      "2.463541912341053\n"
     ]
    }
   ],
   "source": [
    "print(np.min(rand_mat))\n",
    "print(np.max(rand_mat2))"
   ]
  },
  {
   "cell_type": "code",
   "execution_count": null,
   "metadata": {},
   "outputs": [],
   "source": [
    "# break here for next video!"
   ]
  },
  {
   "cell_type": "code",
   "execution_count": 32,
   "metadata": {},
   "outputs": [
    {
     "name": "stdout",
     "output_type": "stream",
     "text": [
      "[ 0.2245118  -1.31836953 -0.24688632  0.65561375  1.4652666  -0.52831597\n",
      "  0.31589994  0.89299576 -0.18700634  1.85138584 -1.21630443 -0.12737677\n",
      " -0.08624202  2.07052703  0.5369854   1.83730916  1.20127397 -0.60181053\n",
      " -1.6952653 ]\n",
      "0.31589993771582153\n"
     ]
    }
   ],
   "source": [
    "# how do we access entries in a numpy vector\n",
    "rand_vec = np.random.randn(19)\n",
    "print(rand_vec)\n",
    "print(rand_vec[6])"
   ]
  },
  {
   "cell_type": "code",
   "execution_count": 33,
   "metadata": {},
   "outputs": [
    {
     "name": "stdout",
     "output_type": "stream",
     "text": [
      "[ 1.4652666  -0.52831597  0.31589994  0.89299576 -0.18700634]\n"
     ]
    }
   ],
   "source": [
    "# we can access multiple entries at once using :\n",
    "print(rand_vec[4:9])"
   ]
  },
  {
   "cell_type": "code",
   "execution_count": 34,
   "metadata": {},
   "outputs": [
    {
     "name": "stdout",
     "output_type": "stream",
     "text": [
      "[ 0  3  6  9 12]\n",
      "[ 0.2245118   0.65561375  0.31589994  1.85138584 -0.08624202]\n"
     ]
    }
   ],
   "source": [
    "# we can also access multiple non-consecutive entries using np.arange\n",
    "print(np.arange(0,15,3))\n",
    "print(rand_vec[np.arange(0,15,3)])"
   ]
  },
  {
   "cell_type": "code",
   "execution_count": 35,
   "metadata": {},
   "outputs": [
    {
     "name": "stdout",
     "output_type": "stream",
     "text": [
      "[[0.03986214 0.78536913 0.04060586 0.30427473 0.3953139 ]\n",
      " [0.07720429 0.83351404 0.37449266 0.5082937  0.43164359]\n",
      " [0.27394806 0.55152146 0.98731451 0.31093227 0.4399405 ]\n",
      " [0.15617424 0.19089824 0.47541759 0.50883057 0.13367666]\n",
      " [0.74775219 0.38912953 0.23995139 0.69330722 0.50679167]]\n",
      "0.3744926599350442\n",
      "0.3744926599350442\n"
     ]
    }
   ],
   "source": [
    "# what about matrices\n",
    "print(rand_mat)\n",
    "print(rand_mat[1][2])\n",
    "print(rand_mat[1,2])\n"
   ]
  },
  {
   "cell_type": "code",
   "execution_count": 36,
   "metadata": {},
   "outputs": [
    {
     "name": "stdout",
     "output_type": "stream",
     "text": [
      "[[0.78536913 0.04060586]\n",
      " [0.83351404 0.37449266]]\n"
     ]
    }
   ],
   "source": [
    "print(rand_mat[0:2,1:3])"
   ]
  },
  {
   "cell_type": "code",
   "execution_count": 37,
   "metadata": {},
   "outputs": [
    {
     "name": "stdout",
     "output_type": "stream",
     "text": [
      "[ 0.2245118  -1.31836953 -0.24688632  0.65561375  1.4652666  -0.52831597\n",
      "  0.31589994  0.89299576 -0.18700634  1.85138584 -1.21630443 -0.12737677\n",
      " -0.08624202  2.07052703  0.5369854   1.83730916  1.20127397 -0.60181053\n",
      " -1.6952653 ]\n",
      "\n",
      "[ 0.2245118  -1.31836953 -0.24688632  4.          4.         -0.52831597\n",
      "  0.31589994  0.89299576 -0.18700634  1.85138584 -1.21630443 -0.12737677\n",
      " -0.08624202  2.07052703  0.5369854   1.83730916  1.20127397 -0.60181053\n",
      " -1.6952653 ]\n",
      "\n",
      "[ 0.2245118  -1.31836953 -0.24688632  1.          2.         -0.52831597\n",
      "  0.31589994  0.89299576 -0.18700634  1.85138584 -1.21630443 -0.12737677\n",
      " -0.08624202  2.07052703  0.5369854   1.83730916  1.20127397 -0.60181053\n",
      " -1.6952653 ]\n"
     ]
    }
   ],
   "source": [
    "# let's change some values in an array!\n",
    "print(rand_vec)\n",
    "rand_vec[3:5] = 4\n",
    "print('')\n",
    "print(rand_vec)\n",
    "rand_vec[3:5] = [1,2]\n",
    "print('')\n",
    "print(rand_vec)"
   ]
  },
  {
   "cell_type": "code",
   "execution_count": 38,
   "metadata": {},
   "outputs": [
    {
     "name": "stdout",
     "output_type": "stream",
     "text": [
      "[[0.03986214 0.78536913 0.04060586 0.30427473 0.3953139 ]\n",
      " [0.07720429 0.83351404 0.37449266 0.5082937  0.43164359]\n",
      " [0.27394806 0.55152146 0.98731451 0.31093227 0.4399405 ]\n",
      " [0.15617424 0.19089824 0.47541759 0.50883057 0.13367666]\n",
      " [0.74775219 0.38912953 0.23995139 0.69330722 0.50679167]]\n",
      "\n",
      "[[0.03986214 0.78536913 0.04060586 0.30427473 0.3953139 ]\n",
      " [0.07720429 0.83351404 0.37449266 0.         0.        ]\n",
      " [0.27394806 0.55152146 0.98731451 0.         0.        ]\n",
      " [0.15617424 0.19089824 0.47541759 0.50883057 0.13367666]\n",
      " [0.74775219 0.38912953 0.23995139 0.69330722 0.50679167]]\n"
     ]
    }
   ],
   "source": [
    "print(rand_mat)\n",
    "rand_mat[1:3,3:5] = 0\n",
    "print('')\n",
    "print(rand_mat)"
   ]
  },
  {
   "cell_type": "code",
   "execution_count": 39,
   "metadata": {},
   "outputs": [
    {
     "name": "stdout",
     "output_type": "stream",
     "text": [
      "[[0.03986214 0.78536913 0.04060586]\n",
      " [0.07720429 0.83351404 0.37449266]]\n",
      "[[3. 3. 3.]\n",
      " [3. 3. 3.]]\n"
     ]
    }
   ],
   "source": [
    "sub_mat = rand_mat[0:2,0:3]\n",
    "print(sub_mat)\n",
    "sub_mat[:] = 3\n",
    "print(sub_mat)\n"
   ]
  },
  {
   "cell_type": "code",
   "execution_count": 40,
   "metadata": {},
   "outputs": [
    {
     "name": "stdout",
     "output_type": "stream",
     "text": [
      "[[3.         3.         3.         0.30427473 0.3953139 ]\n",
      " [3.         3.         3.         0.         0.        ]\n",
      " [0.27394806 0.55152146 0.98731451 0.         0.        ]\n",
      " [0.15617424 0.19089824 0.47541759 0.50883057 0.13367666]\n",
      " [0.74775219 0.38912953 0.23995139 0.69330722 0.50679167]]\n"
     ]
    }
   ],
   "source": [
    "print(rand_mat)"
   ]
  },
  {
   "cell_type": "code",
   "execution_count": 41,
   "metadata": {},
   "outputs": [
    {
     "name": "stdout",
     "output_type": "stream",
     "text": [
      "[[99. 99. 99.]\n",
      " [99. 99. 99.]]\n",
      "[[3.         3.         3.         0.30427473 0.3953139 ]\n",
      " [3.         3.         3.         0.         0.        ]\n",
      " [0.27394806 0.55152146 0.98731451 0.         0.        ]\n",
      " [0.15617424 0.19089824 0.47541759 0.50883057 0.13367666]\n",
      " [0.74775219 0.38912953 0.23995139 0.69330722 0.50679167]]\n"
     ]
    }
   ],
   "source": [
    "sub_mat2 = rand_mat[0:2,0:3].copy()\n",
    "sub_mat2[:] = 99\n",
    "print(sub_mat2)\n",
    "print(rand_mat)\n"
   ]
  },
  {
   "cell_type": "code",
   "execution_count": null,
   "metadata": {},
   "outputs": [],
   "source": [
    "# break here for next video"
   ]
  },
  {
   "cell_type": "code",
   "execution_count": 42,
   "metadata": {},
   "outputs": [
    {
     "name": "stdout",
     "output_type": "stream",
     "text": [
      "[ 0.65450363  0.62052026 -0.88615127  0.6214632  -0.49626319  0.74756682\n",
      "  1.07946497  1.29580559  2.33570084 -0.36971052 -0.20395239  1.0085829\n",
      " -0.5540561  -2.05331257 -0.40280856]\n",
      "[ True  True False  True False  True  True  True  True False False  True\n",
      " False False False]\n",
      "[0.65450363 0.62052026 0.6214632  0.74756682 1.07946497 1.29580559\n",
      " 2.33570084 1.0085829 ]\n"
     ]
    }
   ],
   "source": [
    "# we can also access entries with logicals\n",
    "rand_vec = np.random.randn(15)\n",
    "\n",
    "print(rand_vec)\n",
    "print(rand_vec>0)\n",
    "print(rand_vec[rand_vec>0])"
   ]
  },
  {
   "cell_type": "code",
   "execution_count": 43,
   "metadata": {},
   "outputs": [
    {
     "name": "stdout",
     "output_type": "stream",
     "text": [
      "[[ 0.5307325  -1.32580392  1.18409043 -1.01864297 -0.21212618]\n",
      " [ 0.03844286 -2.74267946  0.11628978 -0.76969698  0.29087144]\n",
      " [ 0.45132281  0.56227369  0.32365992  2.46354191  1.94726982]\n",
      " [-1.14127984  0.54675836 -0.58152181  0.16589233  0.6191329 ]\n",
      " [ 1.96824734 -2.76705095  0.12312335  1.06865662  0.4009953 ]\n",
      " [-0.05204943  1.6525689   0.3504117   0.30332462  0.13646501]\n",
      " [-1.88399358 -0.18079249  0.03218846  0.03737624 -0.80100376]\n",
      " [ 0.75444322  1.20723621 -1.89817865 -0.25448973 -0.11266655]\n",
      " [ 1.28422513  1.72160555 -0.92786538 -0.79892303  0.31388143]\n",
      " [-0.39773167  0.05782375 -0.22746818  1.30750769  0.15422508]]\n",
      "[0.5307325  1.18409043 0.03844286 0.11628978 0.29087144 0.45132281\n",
      " 0.56227369 0.32365992 2.46354191 1.94726982 0.54675836 0.16589233\n",
      " 0.6191329  1.96824734 0.12312335 1.06865662 0.4009953  1.6525689\n",
      " 0.3504117  0.30332462 0.13646501 0.03218846 0.03737624 0.75444322\n",
      " 1.20723621 1.28422513 1.72160555 0.31388143 0.05782375 1.30750769\n",
      " 0.15422508]\n"
     ]
    }
   ],
   "source": [
    "print(rand_mat2)\n",
    "print(rand_mat2[rand_mat2>0])"
   ]
  },
  {
   "cell_type": "code",
   "execution_count": null,
   "metadata": {},
   "outputs": [],
   "source": [
    "\n",
    "print(rand_vec)\n",
    "print('')\n",
    "rand_vec[rand_vec>0.5] = -5\n",
    "print(rand_vec)"
   ]
  },
  {
   "cell_type": "code",
   "execution_count": 44,
   "metadata": {},
   "outputs": [],
   "source": [
    "# let's save some arrays on the disk for use later!\n",
    "np.save('saved_file_name',rand_mat2)\n"
   ]
  },
  {
   "cell_type": "code",
   "execution_count": 45,
   "metadata": {},
   "outputs": [],
   "source": [
    "np.savez('zipped_file_name',rand_mat=rand_mat,rand_mat2=rand_mat2)"
   ]
  },
  {
   "cell_type": "code",
   "execution_count": 46,
   "metadata": {},
   "outputs": [
    {
     "name": "stdout",
     "output_type": "stream",
     "text": [
      "[[ 0.5307325  -1.32580392  1.18409043 -1.01864297 -0.21212618]\n",
      " [ 0.03844286 -2.74267946  0.11628978 -0.76969698  0.29087144]\n",
      " [ 0.45132281  0.56227369  0.32365992  2.46354191  1.94726982]\n",
      " [-1.14127984  0.54675836 -0.58152181  0.16589233  0.6191329 ]\n",
      " [ 1.96824734 -2.76705095  0.12312335  1.06865662  0.4009953 ]\n",
      " [-0.05204943  1.6525689   0.3504117   0.30332462  0.13646501]\n",
      " [-1.88399358 -0.18079249  0.03218846  0.03737624 -0.80100376]\n",
      " [ 0.75444322  1.20723621 -1.89817865 -0.25448973 -0.11266655]\n",
      " [ 1.28422513  1.72160555 -0.92786538 -0.79892303  0.31388143]\n",
      " [-0.39773167  0.05782375 -0.22746818  1.30750769  0.15422508]]\n",
      "\n",
      "<numpy.lib.npyio.NpzFile object at 0x000002586F664788>\n"
     ]
    }
   ],
   "source": [
    "# now let's load it\n",
    "loaded_vec = np.load('saved_file_name.npy')\n",
    "loaded_zip = np.load('zipped_file_name.npz')\n",
    "\n",
    "print(loaded_vec)\n",
    "print('')\n",
    "print(loaded_zip)"
   ]
  },
  {
   "cell_type": "code",
   "execution_count": null,
   "metadata": {},
   "outputs": [],
   "source": [
    "print(loaded_zip['rand_mat'])\n",
    "print('')\n",
    "print(loaded_zip['rand_mat2'])\n",
    "\n",
    "new_array  = loaded_zip['rand_mat']\n",
    "print(new_array)"
   ]
  },
  {
   "cell_type": "code",
   "execution_count": null,
   "metadata": {},
   "outputs": [],
   "source": [
    "# we can also save/load as text files...but only single variables\n",
    "np.savetxt('text_file_name.txt',rand_mat,delimiter=',')\n",
    "rand_mat_txt = np.loadtxt('text_file_name.txt',delimiter=',')\n",
    "print(rand_mat)\n",
    "print('')\n",
    "print(rand_mat_txt)"
   ]
  },
  {
   "cell_type": "code",
   "execution_count": null,
   "metadata": {},
   "outputs": [],
   "source": []
  }
 ],
 "metadata": {
  "kernelspec": {
   "display_name": "Python 3",
   "language": "python",
   "name": "python3"
  },
  "language_info": {
   "codemirror_mode": {
    "name": "ipython",
    "version": 3
   },
   "file_extension": ".py",
   "mimetype": "text/x-python",
   "name": "python",
   "nbconvert_exporter": "python",
   "pygments_lexer": "ipython3",
   "version": "3.7.6"
  }
 },
 "nbformat": 4,
 "nbformat_minor": 2
}
